{
 "cells": [
  {
   "cell_type": "code",
   "execution_count": 1,
   "id": "85aa6def-7843-4a3b-b51f-8c037831f03e",
   "metadata": {},
   "outputs": [],
   "source": [
    "# Done By Divyansh"
   ]
  },
  {
   "cell_type": "code",
   "execution_count": 2,
   "id": "c9b45126-9d13-4588-88f5-2f23e971431a",
   "metadata": {},
   "outputs": [],
   "source": [
    "#connecting callback functions\n",
    "#adding functionality through event choices\n",
    "#dragging the mouse for functionality"
   ]
  },
  {
   "cell_type": "code",
   "execution_count": null,
   "id": "bb595692-64c6-4e15-859e-ffebbef32edc",
   "metadata": {},
   "outputs": [],
   "source": [
    "import cv2\n",
    "import numpy as np\n",
    "\n",
    "\n",
    "###################\n",
    "## FUNCTION    ####\n",
    "###################\n",
    "def draw_circle(event,x,y,flags,param):\n",
    "    if event==cv2.EVENT_LBUTTONDOWN:\n",
    "        cv2.circle(img,(x,y),100,(0,255,0),-1)\n",
    "    elif event==cv2.EVENT_RBUTTONDOWN:\n",
    "        cv2.circle(img,(x,y),100,(155,0,155),-1)\n",
    "\n",
    "#able to connect a function that takes in an event and x,y,flags and parameter looks for a \n",
    "#specific event and then do something with the image \n",
    "cv2.namedWindow(winname='my_drawing')\n",
    "\n",
    "\n",
    "cv2.setMouseCallback('my_drawing',draw_circle)\n",
    "\n",
    "\n",
    "####################################\n",
    "##   SHOWING IMAGE WITH OPEN CV ####\n",
    "####################################\n",
    "\n",
    "img=np.zeros((512,512,3))\n",
    "\n",
    "while True:\n",
    "    cv2.imshow('my_drawing',img)\n",
    "    if cv2.waitKey(20) & 0xFF == 27:\n",
    "        break\n",
    "\n",
    "cv2.destroyAllWindows()"
   ]
  },
  {
   "cell_type": "code",
   "execution_count": null,
   "id": "8c8fd3ef-ae63-4f8b-a027-f4dc7d7f3348",
   "metadata": {},
   "outputs": [],
   "source": [
    "#PART 2-"
   ]
  },
  {
   "cell_type": "code",
   "execution_count": null,
   "id": "42a5037d-ff60-44aa-9181-532a004ba3fd",
   "metadata": {},
   "outputs": [],
   "source": [
    "#Direct Drwaing with mouse"
   ]
  }
 ],
 "metadata": {
  "kernelspec": {
   "display_name": "Python 3 (ipykernel)",
   "language": "python",
   "name": "python3"
  },
  "language_info": {
   "codemirror_mode": {
    "name": "ipython",
    "version": 3
   },
   "file_extension": ".py",
   "mimetype": "text/x-python",
   "name": "python",
   "nbconvert_exporter": "python",
   "pygments_lexer": "ipython3",
   "version": "3.12.0"
  }
 },
 "nbformat": 4,
 "nbformat_minor": 5
}
